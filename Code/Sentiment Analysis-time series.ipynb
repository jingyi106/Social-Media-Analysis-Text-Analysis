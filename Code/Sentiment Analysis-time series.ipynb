{
 "cells": [
  {
   "cell_type": "code",
   "execution_count": 1,
   "id": "b62a5ae9",
   "metadata": {},
   "outputs": [],
   "source": [
    "import os\n",
    "import re\n",
    "\n",
    "import pandas as pd\n",
    "import numpy as np\n",
    "\n",
    "import nlp\n",
    "import nltk\n",
    "from nltk import tokenize\n",
    "from nltk.corpus import stopwords \n",
    "from nltk.tokenize import word_tokenize\n",
    "from textblob import TextBlob\n",
    "from nltk.sentiment import SentimentIntensityAnalyzer\n",
    "from nltk.tokenize import TweetTokenizer\n",
    "from nltk.sentiment.vader import SentimentIntensityAnalyzer\n",
    "\n",
    "from sklearn.feature_extraction.text import CountVectorizer\n",
    "from collections import Counter, OrderedDict\n",
    "from sklearn.feature_extraction import DictVectorizer\n",
    "from sklearn.linear_model import SGDClassifier\n",
    "from sklearn.feature_extraction.text import TfidfTransformer\n",
    "from sklearn.neural_network import MLPClassifier\n",
    "from sklearn.pipeline import Pipeline\n",
    "from sklearn.pipeline import make_pipeline\n",
    "from sklearn.preprocessing import StandardScaler\n",
    "from sklearn.feature_extraction.text import TfidfVectorizer\n",
    "from sklearn.metrics import f1_score\n",
    "from sklearn.metrics import confusion_matrix\n",
    "from sklearn.decomposition import PCA\n",
    "\n",
    "from itertools import compress\n",
    "import collections\n",
    "from collections import Counter\n",
    "\n",
    "import spacy \n",
    "import seaborn as sns\n",
    "import matplotlib.pyplot as plt\n",
    "import matplotlib.ticker as mticker\n",
    "\n",
    "import warnings\n",
    "from pandas.core.common import SettingWithCopyWarning"
   ]
  },
  {
   "cell_type": "code",
   "execution_count": 2,
   "id": "a2b49811",
   "metadata": {},
   "outputs": [],
   "source": [
    "warnings.simplefilter(action=\"ignore\", category=SettingWithCopyWarning)"
   ]
  },
  {
   "cell_type": "markdown",
   "id": "e468b336",
   "metadata": {},
   "source": [
    "# Preprocessing"
   ]
  },
  {
   "cell_type": "code",
   "execution_count": 3,
   "id": "48109fb5",
   "metadata": {},
   "outputs": [],
   "source": [
    "# import data as dataframe\n",
    "data = pd.read_excel(\"cleaned_all.xlsx\")"
   ]
  },
  {
   "cell_type": "code",
   "execution_count": 4,
   "id": "f0476f4f",
   "metadata": {},
   "outputs": [],
   "source": [
    "data['Sound Bite Text'].astype(str)\n",
    "data['text']=data['Sound Bite Text'].str.lower()\n",
    "data.dropna(subset=['Sound Bite Text'], inplace=True)\n",
    "data['text'] = data['text'].astype('string')\n",
    "data['text_split']=data['text'].str.split()\n",
    "data = data.dropna(subset=['Sound Bite Text'])\n",
    "data = data[data['Sound Bite Text']!='nan']\n",
    "data.dropna(subset=['text_split'], inplace=True)"
   ]
  },
  {
   "cell_type": "markdown",
   "id": "a653cd26",
   "metadata": {},
   "source": [
    "### Filter Reviews that is related to Apple"
   ]
  },
  {
   "cell_type": "code",
   "execution_count": 5,
   "id": "e3393e45",
   "metadata": {},
   "outputs": [],
   "source": [
    "getApple = ['iphone','x', '8']\n",
    "\n",
    "def filter_apple(splitlist):\n",
    "    nltk=[]\n",
    "    for i in splitlist:\n",
    "        if i in getApple:\n",
    "            nltk.append(i)\n",
    "    return list(set(nltk))\n",
    "data['apple_tag'] = data['text_split'].apply(filter_apple)"
   ]
  },
  {
   "cell_type": "markdown",
   "id": "9d55cc1c",
   "metadata": {},
   "source": [
    "### Filter Reviews that is related to Samsung"
   ]
  },
  {
   "cell_type": "code",
   "execution_count": 6,
   "id": "5634c100",
   "metadata": {},
   "outputs": [],
   "source": [
    "getSamsung = ['galaxy','s8', 'samsung']\n",
    "\n",
    "def filter_samsung(splitlist):\n",
    "    nltk=[]\n",
    "    for i in splitlist:\n",
    "        if i in getSamsung:\n",
    "            nltk.append(i)\n",
    "    return list(set(nltk))\n",
    "data['samsung_tag'] = data['text_split'].apply(filter_samsung)"
   ]
  },
  {
   "cell_type": "code",
   "execution_count": 7,
   "id": "105244dc",
   "metadata": {},
   "outputs": [],
   "source": [
    "data['samsung'] = data['samsung_tag'].apply(lambda s: 1 if len(s) != 0 else 0)\n",
    "data['apple'] = data['apple_tag'].apply(lambda s: 1 if len(s) != 0 else 0)"
   ]
  },
  {
   "cell_type": "code",
   "execution_count": 8,
   "id": "6c22ad22",
   "metadata": {},
   "outputs": [
    {
     "name": "stderr",
     "output_type": "stream",
     "text": [
      "/var/folders/vg/pr1vdfbs7xj4xh3qmndt97m40000gn/T/ipykernel_24971/1877862849.py:2: FutureWarning: In a future version of pandas all arguments of DataFrame.drop except for the argument 'labels' will be keyword-only\n",
      "  data = data.drop('samsung_tag',1)\n",
      "/var/folders/vg/pr1vdfbs7xj4xh3qmndt97m40000gn/T/ipykernel_24971/1877862849.py:3: FutureWarning: In a future version of pandas all arguments of DataFrame.drop except for the argument 'labels' will be keyword-only\n",
      "  data = data.drop('apple_tag',1)\n"
     ]
    }
   ],
   "source": [
    "data['both'] = data['samsung']+data['apple']\n",
    "data = data.drop('samsung_tag',1)\n",
    "data = data.drop('apple_tag',1)"
   ]
  },
  {
   "cell_type": "code",
   "execution_count": 9,
   "id": "5decca81",
   "metadata": {},
   "outputs": [],
   "source": [
    "################################################"
   ]
  },
  {
   "cell_type": "markdown",
   "id": "bc8b97ef",
   "metadata": {},
   "source": [
    "# Remove stopwords and irrelavant words"
   ]
  },
  {
   "cell_type": "code",
   "execution_count": 10,
   "id": "ee34fa58",
   "metadata": {},
   "outputs": [],
   "source": [
    "# function to remove URL\n",
    "def delete_URL(data):\n",
    "    #Removing URLs with a regular expression\n",
    "    url_pattern = re.compile(r'https?://\\S+|www\\.\\S+')\n",
    "    data = url_pattern.sub(r'', data)\n",
    "    \n",
    "    data=re.sub(r'/.*', \"\", data)\n",
    "\n",
    "    # Remove Emails\n",
    "    data = re.sub('\\S*@\\S*\\s?', '', data)\n",
    "\n",
    "    # Remove new line characters\n",
    "    data = re.sub('\\s+', ' ', data)\n",
    "\n",
    "    # Remove distracting single quotes\n",
    "    data = re.sub(\"\\'\", \"\", data)\n",
    "    \n",
    "    data = re.sub(r'[A-Za-z]*.com$', \"\", data)\n",
    "\n",
    "        \n",
    "    return data"
   ]
  },
  {
   "cell_type": "code",
   "execution_count": 11,
   "id": "67239f59",
   "metadata": {},
   "outputs": [],
   "source": [
    "# function to remove stop words\n",
    "tknzr = TweetTokenizer()\n",
    "nlp = spacy.load(\"en_core_web_sm\")\n",
    "\n",
    "def remove_stop_words(string):\n",
    "    cleaned=[word for word in tknzr.tokenize(string.lower()) if word not in nlp.Defaults.stop_words and len(word)>2]\n",
    "    cleaned_str = ' '.join(cleaned)   \n",
    "    return cleaned_str"
   ]
  },
  {
   "cell_type": "code",
   "execution_count": 12,
   "id": "e39616c4",
   "metadata": {},
   "outputs": [],
   "source": [
    "# clear url & stop words for samsung\n",
    "data['Sound Bite Text'] = data['Sound Bite Text'].apply(delete_URL)\n",
    "data['Sound Bite Text'] = data['Sound Bite Text'].apply(remove_stop_words)"
   ]
  },
  {
   "cell_type": "code",
   "execution_count": 13,
   "id": "0c67f36a",
   "metadata": {},
   "outputs": [],
   "source": [
    "# sentiment for all data using textblob\n",
    "data['s score_all'] = data['Sound Bite Text'].apply(lambda x: TextBlob(str(x)).sentiment.polarity)\n",
    "data[\"sentiment_all\"] = np.select([data[\"s score_all\"] < 0, data[\"s score_all\"] == 0, data[\"s score_all\"] > 0],['neg', 'neu', 'pos'])"
   ]
  },
  {
   "cell_type": "code",
   "execution_count": 14,
   "id": "96f0a639",
   "metadata": {},
   "outputs": [
    {
     "data": {
      "text/plain": [
       "samsung\n",
       "0    0.096257\n",
       "1    0.100000\n",
       "Name: s score_all, dtype: float64"
      ]
     },
     "execution_count": 14,
     "metadata": {},
     "output_type": "execute_result"
    }
   ],
   "source": [
    "data_new = data.drop(data[data['both']==2].index)\n",
    "data_new.groupby(\"samsung\")['s score_all'].median()"
   ]
  },
  {
   "cell_type": "code",
   "execution_count": 15,
   "id": "ccdd56d6",
   "metadata": {
    "scrolled": true
   },
   "outputs": [
    {
     "data": {
      "text/plain": [
       "apple\n",
       "0    0.100000\n",
       "1    0.099074\n",
       "Name: s score_all, dtype: float64"
      ]
     },
     "execution_count": 15,
     "metadata": {},
     "output_type": "execute_result"
    }
   ],
   "source": [
    "data_new.groupby(\"apple\")['s score_all'].median()"
   ]
  },
  {
   "cell_type": "code",
   "execution_count": null,
   "id": "5ab2f2d9",
   "metadata": {},
   "outputs": [],
   "source": []
  },
  {
   "cell_type": "markdown",
   "id": "e636cf0e",
   "metadata": {},
   "source": [
    "# Sentiment Analysis of Samsung"
   ]
  },
  {
   "cell_type": "code",
   "execution_count": 16,
   "id": "932e6ee6",
   "metadata": {},
   "outputs": [
    {
     "data": {
      "text/html": [
       "<div>\n",
       "<style scoped>\n",
       "    .dataframe tbody tr th:only-of-type {\n",
       "        vertical-align: middle;\n",
       "    }\n",
       "\n",
       "    .dataframe tbody tr th {\n",
       "        vertical-align: top;\n",
       "    }\n",
       "\n",
       "    .dataframe thead th {\n",
       "        text-align: right;\n",
       "    }\n",
       "</style>\n",
       "<table border=\"1\" class=\"dataframe\">\n",
       "  <thead>\n",
       "    <tr style=\"text-align: right;\">\n",
       "      <th></th>\n",
       "      <th>Post ID</th>\n",
       "      <th>Sound Bite Text</th>\n",
       "      <th>Source Type</th>\n",
       "      <th>Published Date (GMT-04:00) New York</th>\n",
       "      <th>Author Location - Country 1</th>\n",
       "      <th>No. of Followers/Daily Unique Visitors</th>\n",
       "      <th>Richness</th>\n",
       "      <th>text</th>\n",
       "      <th>text_split</th>\n",
       "      <th>samsung</th>\n",
       "      <th>apple</th>\n",
       "      <th>both</th>\n",
       "      <th>s score_all</th>\n",
       "      <th>sentiment_all</th>\n",
       "    </tr>\n",
       "  </thead>\n",
       "  <tbody>\n",
       "    <tr>\n",
       "      <th>0</th>\n",
       "      <td>854083902402580480</td>\n",
       "      <td>samsung galaxy plus undergo battery drain test...</td>\n",
       "      <td>Twitter</td>\n",
       "      <td>Apr 17, 2017 5:27:25 PM</td>\n",
       "      <td>France</td>\n",
       "      <td>50</td>\n",
       "      <td>2</td>\n",
       "      <td>samsung galaxy s8 and s8 plus undergo a batter...</td>\n",
       "      <td>[samsung, galaxy, s8, and, s8, plus, undergo, ...</td>\n",
       "      <td>1</td>\n",
       "      <td>0</td>\n",
       "      <td>1</td>\n",
       "      <td>0.0</td>\n",
       "      <td>neu</td>\n",
       "    </tr>\n",
       "    <tr>\n",
       "      <th>2</th>\n",
       "      <td>875563699074850816</td>\n",
       "      <td>#unieuro #sconta #galaxy del #fino #domenica</td>\n",
       "      <td>Twitter</td>\n",
       "      <td>Jun 16, 2017 12:00:27 AM</td>\n",
       "      <td>NaN</td>\n",
       "      <td>190</td>\n",
       "      <td>2</td>\n",
       "      <td>#unieuro #sconta #galaxy s8 ed s8+ del 19 e 22...</td>\n",
       "      <td>[#unieuro, #sconta, #galaxy, s8, ed, s8+, del,...</td>\n",
       "      <td>1</td>\n",
       "      <td>0</td>\n",
       "      <td>1</td>\n",
       "      <td>0.0</td>\n",
       "      <td>neu</td>\n",
       "    </tr>\n",
       "    <tr>\n",
       "      <th>3</th>\n",
       "      <td>860350966855598082</td>\n",
       "      <td>enjoy free cup aromatic coffee samsung galaxy ...</td>\n",
       "      <td>Twitter</td>\n",
       "      <td>May 5, 2017 12:30:29 AM</td>\n",
       "      <td>NaN</td>\n",
       "      <td>444</td>\n",
       "      <td>3</td>\n",
       "      <td>enjoy a free cup of aromatic coffee from us at...</td>\n",
       "      <td>[enjoy, a, free, cup, of, aromatic, coffee, fr...</td>\n",
       "      <td>1</td>\n",
       "      <td>0</td>\n",
       "      <td>1</td>\n",
       "      <td>0.4</td>\n",
       "      <td>pos</td>\n",
       "    </tr>\n",
       "    <tr>\n",
       "      <th>4</th>\n",
       "      <td>837438402651901953</td>\n",
       "      <td>according reports samsung begun mass productio...</td>\n",
       "      <td>Twitter</td>\n",
       "      <td>Mar 2, 2017 6:04:08 PM</td>\n",
       "      <td>United States</td>\n",
       "      <td>23</td>\n",
       "      <td>2</td>\n",
       "      <td>according to reports, samsung has begun mass p...</td>\n",
       "      <td>[according, to, reports,, samsung, has, begun,...</td>\n",
       "      <td>1</td>\n",
       "      <td>0</td>\n",
       "      <td>1</td>\n",
       "      <td>0.0</td>\n",
       "      <td>neu</td>\n",
       "    </tr>\n",
       "    <tr>\n",
       "      <th>8</th>\n",
       "      <td>880244325912858624</td>\n",
       "      <td>review samsung galaxy bit.ly</td>\n",
       "      <td>Twitter</td>\n",
       "      <td>Jun 28, 2017 9:59:36 PM</td>\n",
       "      <td>NaN</td>\n",
       "      <td>8</td>\n",
       "      <td>1</td>\n",
       "      <td>review &amp; keep a samsung galaxy s8! bit.ly/2jvz...</td>\n",
       "      <td>[review, &amp;, keep, a, samsung, galaxy, s8!, bit...</td>\n",
       "      <td>1</td>\n",
       "      <td>0</td>\n",
       "      <td>1</td>\n",
       "      <td>0.0</td>\n",
       "      <td>neu</td>\n",
       "    </tr>\n",
       "  </tbody>\n",
       "</table>\n",
       "</div>"
      ],
      "text/plain": [
       "              Post ID                                    Sound Bite Text  \\\n",
       "0  854083902402580480  samsung galaxy plus undergo battery drain test...   \n",
       "2  875563699074850816       #unieuro #sconta #galaxy del #fino #domenica   \n",
       "3  860350966855598082  enjoy free cup aromatic coffee samsung galaxy ...   \n",
       "4  837438402651901953  according reports samsung begun mass productio...   \n",
       "8  880244325912858624                       review samsung galaxy bit.ly   \n",
       "\n",
       "  Source Type Published Date (GMT-04:00) New York Author Location - Country 1  \\\n",
       "0     Twitter             Apr 17, 2017 5:27:25 PM                      France   \n",
       "2     Twitter            Jun 16, 2017 12:00:27 AM                         NaN   \n",
       "3     Twitter             May 5, 2017 12:30:29 AM                         NaN   \n",
       "4     Twitter              Mar 2, 2017 6:04:08 PM               United States   \n",
       "8     Twitter             Jun 28, 2017 9:59:36 PM                         NaN   \n",
       "\n",
       "   No. of Followers/Daily Unique Visitors  Richness  \\\n",
       "0                                      50         2   \n",
       "2                                     190         2   \n",
       "3                                     444         3   \n",
       "4                                      23         2   \n",
       "8                                       8         1   \n",
       "\n",
       "                                                text  \\\n",
       "0  samsung galaxy s8 and s8 plus undergo a batter...   \n",
       "2  #unieuro #sconta #galaxy s8 ed s8+ del 19 e 22...   \n",
       "3  enjoy a free cup of aromatic coffee from us at...   \n",
       "4  according to reports, samsung has begun mass p...   \n",
       "8  review & keep a samsung galaxy s8! bit.ly/2jvz...   \n",
       "\n",
       "                                          text_split  samsung  apple  both  \\\n",
       "0  [samsung, galaxy, s8, and, s8, plus, undergo, ...        1      0     1   \n",
       "2  [#unieuro, #sconta, #galaxy, s8, ed, s8+, del,...        1      0     1   \n",
       "3  [enjoy, a, free, cup, of, aromatic, coffee, fr...        1      0     1   \n",
       "4  [according, to, reports,, samsung, has, begun,...        1      0     1   \n",
       "8  [review, &, keep, a, samsung, galaxy, s8!, bit...        1      0     1   \n",
       "\n",
       "   s score_all sentiment_all  \n",
       "0          0.0           neu  \n",
       "2          0.0           neu  \n",
       "3          0.4           pos  \n",
       "4          0.0           neu  \n",
       "8          0.0           neu  "
      ]
     },
     "execution_count": 16,
     "metadata": {},
     "output_type": "execute_result"
    }
   ],
   "source": [
    "samsung = data[(data['samsung']==1) & (data['both']!=2)]\n",
    "samsung.head()"
   ]
  },
  {
   "cell_type": "code",
   "execution_count": 17,
   "id": "d200f8a9",
   "metadata": {},
   "outputs": [],
   "source": [
    "# texblob- samsung\n",
    "samsung['sentiment score'] = samsung['Sound Bite Text'].apply(lambda x: TextBlob(str(x)).sentiment.polarity)\n",
    "samsung[\"sentiment\"] = np.select([samsung[\"sentiment score\"] < 0, samsung[\"sentiment score\"] == 0, samsung[\"sentiment score\"] > 0],['neg', 'neu', 'pos'])"
   ]
  },
  {
   "cell_type": "code",
   "execution_count": 18,
   "id": "ed799dc0",
   "metadata": {},
   "outputs": [
    {
     "data": {
      "text/plain": [
       "<AxesSubplot:xlabel='sentiment'>"
      ]
     },
     "execution_count": 18,
     "metadata": {},
     "output_type": "execute_result"
    },
    {
     "data": {
      "image/png": "[encoded data removed]",
      "text/plain": [
       "<Figure size 432x288 with 1 Axes>"
      ]
     },
     "metadata": {
      "needs_background": "light"
     },
     "output_type": "display_data"
    }
   ],
   "source": [
    "# based on textblob-samsung\n",
    "samsung.groupby('sentiment')['Post ID'].count().plot(kind ='bar')"
   ]
  },
  {
   "cell_type": "code",
   "execution_count": 19,
   "id": "bcfb5aff",
   "metadata": {
    "scrolled": true
   },
   "outputs": [
    {
     "data": {
      "text/plain": [
       "sentiment\n",
       "neg    18905\n",
       "neu    39454\n",
       "pos    97053\n",
       "Name: Post ID, dtype: int64"
      ]
     },
     "execution_count": 19,
     "metadata": {},
     "output_type": "execute_result"
    }
   ],
   "source": [
    "samsung.groupby('sentiment')['Post ID'].count()"
   ]
  },
  {
   "cell_type": "code",
   "execution_count": 21,
   "id": "97267235",
   "metadata": {
    "scrolled": true
   },
   "outputs": [
    {
     "data": {
      "image/png": "[encoded data removed]",
      "text/plain": [
       "<Figure size 432x288 with 1 Axes>"
      ]
     },
     "metadata": {},
     "output_type": "display_data"
    }
   ],
   "source": [
    "mylabels = [\"Negative\", \"Neutral\", \"Positive\"]\n",
    "plt.pie(samsung.groupby('sentiment')['Post ID'].count(), labels = mylabels, autopct='%1.1f%%')\n",
    "plt.title(\"Samsung Sentiment Pie Chart\")\n",
    "plt.show()"
   ]
  },
  {
   "cell_type": "code",
   "execution_count": 23,
   "id": "9fd20380",
   "metadata": {},
   "outputs": [],
   "source": [
    "# vader on samsung\n",
    "import operator\n",
    "sia = SentimentIntensityAnalyzer()\n",
    "samsung[\"sentiment_score_2\"] = samsung[\"Sound Bite Text\"].apply(lambda x: sia.polarity_scores(x)[\"compound\"])\n",
    "samsung[\"sentiment_2\"] = np.select([samsung[\"sentiment_score_2\"] < 0, samsung[\"sentiment_score_2\"] == 0, samsung[\"sentiment_score_2\"] > 0],\n",
    "                           ['neg', 'neu', 'pos'])\n"
   ]
  },
  {
   "cell_type": "code",
   "execution_count": 24,
   "id": "e3bceb6f",
   "metadata": {},
   "outputs": [
    {
     "data": {
      "text/plain": [
       "<AxesSubplot:xlabel='sentiment_2'>"
      ]
     },
     "execution_count": 24,
     "metadata": {},
     "output_type": "execute_result"
    },
    {
     "data": {
      "image/png": "[encoded data removed]",
      "text/plain": [
       "<Figure size 432x288 with 1 Axes>"
      ]
     },
     "metadata": {
      "needs_background": "light"
     },
     "output_type": "display_data"
    }
   ],
   "source": [
    "# based on vader-samsung\n",
    "samsung.groupby('sentiment_2')['Post ID'].count().plot(kind ='bar')"
   ]
  },
  {
   "cell_type": "code",
   "execution_count": null,
   "id": "16bb0496",
   "metadata": {},
   "outputs": [],
   "source": []
  },
  {
   "cell_type": "markdown",
   "id": "a5323aa2",
   "metadata": {},
   "source": [
    "# Sentiment Analysis of Apple"
   ]
  },
  {
   "cell_type": "code",
   "execution_count": 25,
   "id": "d8f561f7",
   "metadata": {},
   "outputs": [],
   "source": [
    "apple = data[(data['apple']==1) & (data['both']!=2)]"
   ]
  },
  {
   "cell_type": "code",
   "execution_count": 26,
   "id": "15dd4f5f",
   "metadata": {},
   "outputs": [],
   "source": [
    "# textBlob on Apple\n",
    "apple['sentiment score'] = apple['Sound Bite Text'].apply(lambda x: TextBlob(str(x)).sentiment.polarity)\n",
    "apple[\"sentiment\"] = np.select([apple[\"sentiment score\"] < 0, apple[\"sentiment score\"] == 0, apple[\"sentiment score\"] > 0],['neg', 'neu', 'pos'])"
   ]
  },
  {
   "cell_type": "code",
   "execution_count": 27,
   "id": "2807248f",
   "metadata": {},
   "outputs": [
    {
     "data": {
      "text/plain": [
       "sentiment\n",
       "neg    21183\n",
       "neu    37677\n",
       "pos    99341\n",
       "Name: Post ID, dtype: int64"
      ]
     },
     "execution_count": 27,
     "metadata": {},
     "output_type": "execute_result"
    }
   ],
   "source": [
    "apple.groupby('sentiment')['Post ID'].count()"
   ]
  },
  {
   "cell_type": "code",
   "execution_count": 28,
   "id": "99ba63bd",
   "metadata": {},
   "outputs": [],
   "source": [
    "# vader on Apple\n",
    "sia = SentimentIntensityAnalyzer()\n",
    "apple[\"sentiment_score_2\"] = apple[\"Sound Bite Text\"].apply(lambda x: sia.polarity_scores(x)[\"compound\"])\n",
    "apple[\"sentiment_2\"] = np.select([apple[\"sentiment_score_2\"] < 0, apple[\"sentiment_score_2\"] == 0, apple[\"sentiment_score_2\"] > 0],\n",
    "                           ['neg', 'neu', 'pos'])"
   ]
  },
  {
   "cell_type": "code",
   "execution_count": 29,
   "id": "12c3aeb6",
   "metadata": {},
   "outputs": [
    {
     "data": {
      "text/plain": [
       "<AxesSubplot:xlabel='sentiment_2'>"
      ]
     },
     "execution_count": 29,
     "metadata": {},
     "output_type": "execute_result"
    },
    {
     "data": {
      "image/png": "[encoded data removed]",
      "text/plain": [
       "<Figure size 432x288 with 1 Axes>"
      ]
     },
     "metadata": {
      "needs_background": "light"
     },
     "output_type": "display_data"
    }
   ],
   "source": [
    "apple.groupby('sentiment_2')['Post ID'].count().plot(kind ='bar')"
   ]
  },
  {
   "cell_type": "code",
   "execution_count": 30,
   "id": "db05bf55",
   "metadata": {},
   "outputs": [
    {
     "data": {
      "image/png": "[encoded data removed]",
      "text/plain": [
       "<Figure size 432x288 with 1 Axes>"
      ]
     },
     "metadata": {
      "needs_background": "light"
     },
     "output_type": "display_data"
    }
   ],
   "source": [
    "plt.hist(apple['sentiment score'], alpha = 0.5, bins= 30)\n",
    "plt.hist(samsung['sentiment score'], alpha = 0.5, bins = 30)\n",
    "plt.legend([\"apple\", \"samsung\"])\n",
    "plt.show()"
   ]
  },
  {
   "cell_type": "code",
   "execution_count": null,
   "id": "dcbc73b1",
   "metadata": {},
   "outputs": [],
   "source": []
  },
  {
   "cell_type": "markdown",
   "id": "efaaf102",
   "metadata": {},
   "source": [
    "# Analysis of before-launch & after-launch"
   ]
  },
  {
   "cell_type": "code",
   "execution_count": 31,
   "id": "1ef7852f",
   "metadata": {},
   "outputs": [],
   "source": [
    "def samsung_launch(date):\n",
    "    if pd.to_datetime(date) < pd.to_datetime('03-29-2017'):\n",
    "        status = 'before'\n",
    "    else:\n",
    "         status = 'after'\n",
    "    return status"
   ]
  },
  {
   "cell_type": "code",
   "execution_count": 32,
   "id": "eaee7309",
   "metadata": {},
   "outputs": [],
   "source": [
    "samsung['before and after'] = samsung['Published Date (GMT-04:00) New York'].apply(samsung_launch)"
   ]
  },
  {
   "cell_type": "code",
   "execution_count": 33,
   "id": "2fc6a22f",
   "metadata": {},
   "outputs": [],
   "source": [
    "def apple_launch(date):\n",
    "    if pd.to_datetime(date) < pd.to_datetime('09-22-2017'):\n",
    "        status = 'before'\n",
    "    else:\n",
    "         status = 'after'\n",
    "    return status"
   ]
  },
  {
   "cell_type": "code",
   "execution_count": 34,
   "id": "43f6f980",
   "metadata": {},
   "outputs": [],
   "source": [
    "apple['before and after'] = apple['Published Date (GMT-04:00) New York'].apply(apple_launch)"
   ]
  },
  {
   "cell_type": "code",
   "execution_count": 35,
   "id": "92689589",
   "metadata": {},
   "outputs": [
    {
     "data": {
      "text/plain": [
       "before and after\n",
       "after     0.139245\n",
       "before    0.114966\n",
       "Name: sentiment score, dtype: float64"
      ]
     },
     "execution_count": 35,
     "metadata": {},
     "output_type": "execute_result"
    }
   ],
   "source": [
    "apple.groupby(\"before and after\")['sentiment score'].mean()"
   ]
  },
  {
   "cell_type": "code",
   "execution_count": 36,
   "id": "1b8479b6",
   "metadata": {},
   "outputs": [
    {
     "data": {
      "text/plain": [
       "before and after\n",
       "after     0.145929\n",
       "before    0.100604\n",
       "Name: sentiment score, dtype: float64"
      ]
     },
     "execution_count": 36,
     "metadata": {},
     "output_type": "execute_result"
    }
   ],
   "source": [
    "samsung.groupby(\"before and after\")['sentiment score'].mean()"
   ]
  },
  {
   "cell_type": "code",
   "execution_count": 37,
   "id": "c20a9900",
   "metadata": {},
   "outputs": [
    {
     "data": {
      "image/png": "[encoded data removed]",
      "text/plain": [
       "<Figure size 432x288 with 1 Axes>"
      ]
     },
     "metadata": {
      "needs_background": "light"
     },
     "output_type": "display_data"
    },
    {
     "data": {
      "image/png": "[encoded data removed]",
      "text/plain": [
       "<Figure size 432x288 with 1 Axes>"
      ]
     },
     "metadata": {
      "needs_background": "light"
     },
     "output_type": "display_data"
    }
   ],
   "source": [
    "sns.boxplot(x='before and after', y='sentiment score', data=apple)\n",
    "plt.show()\n",
    "sns.boxplot(x='before and after', y='sentiment score', data=samsung)\n",
    "plt.show()"
   ]
  },
  {
   "cell_type": "code",
   "execution_count": 38,
   "id": "965f81e5",
   "metadata": {},
   "outputs": [],
   "source": [
    "import datetime\n",
    "import dateutil\n",
    "apple['publish date']= apple['Published Date (GMT-04:00) New York'].apply(dateutil.parser.parse, dayfirst=True)\n",
    "apple['publish date'] = [d.date() for d in apple[\"publish date\"]]"
   ]
  },
  {
   "cell_type": "code",
   "execution_count": null,
   "id": "89871630",
   "metadata": {},
   "outputs": [],
   "source": []
  },
  {
   "cell_type": "markdown",
   "id": "052c7cce",
   "metadata": {},
   "source": [
    "## time serie sentiment score for apple "
   ]
  },
  {
   "cell_type": "code",
   "execution_count": 39,
   "id": "be33b9f1",
   "metadata": {},
   "outputs": [
    {
     "data": {
      "image/png": "[encoded data removed]",
      "text/plain": [
       "<Figure size 432x288 with 1 Axes>"
      ]
     },
     "metadata": {
      "needs_background": "light"
     },
     "output_type": "display_data"
    }
   ],
   "source": [
    "# pre samsung launch\n",
    "apple[apple['publish date']<datetime.date(2017,3,30)].groupby('publish date')['sentiment score'].mean().plot()\n",
    "# post samsung launch\n",
    "apple[(apple['publish date']>datetime.date(2017,3,28)) & (apple['publish date']<datetime.date(2017,7,1))].groupby('publish date')['sentiment score'].mean().plot()\n",
    "# pre apple lanuch\n",
    "apple[(apple['publish date']>datetime.date(2017,9,12)) & (apple['publish date']<datetime.date(2017,9,22))].groupby('publish date')['sentiment score'].mean().plot()\n",
    "# post apple launch\n",
    "apple[(apple['publish date']>datetime.date(2017,9,20))].groupby('publish date')['sentiment score'].mean().plot()\n",
    "plt.xticks(rotation='vertical')\n",
    "plt.title(\"Sentiment Score Time Series for Apple\")\n",
    "plt.show()"
   ]
  },
  {
   "cell_type": "markdown",
   "id": "15a9be69",
   "metadata": {},
   "source": [
    "## time serie number of post for apple"
   ]
  },
  {
   "cell_type": "code",
   "execution_count": 40,
   "id": "85669349",
   "metadata": {},
   "outputs": [
    {
     "data": {
      "image/png": "[encoded data removed]",
      "text/plain": [
       "<Figure size 432x288 with 1 Axes>"
      ]
     },
     "metadata": {
      "needs_background": "light"
     },
     "output_type": "display_data"
    }
   ],
   "source": [
    "# pre samsung launch\n",
    "apple[apple['publish date']<datetime.date(2017,3,30)].groupby('publish date')['Post ID'].count().plot()\n",
    "# post samsung launch\n",
    "apple[(apple['publish date']>datetime.date(2017,3,28)) & (apple['publish date']<datetime.date(2017,7,1))].groupby('publish date')['Post ID'].count().plot()\n",
    "# pre apple lanuch\n",
    "apple[(apple['publish date']>datetime.date(2017,9,12)) & (apple['publish date']<datetime.date(2017,9,22))].groupby('publish date')['Post ID'].count().plot()\n",
    "# post apple launch\n",
    "apple[(apple['publish date']>datetime.date(2017,9,20))].groupby('publish date')['Post ID'].count().plot()\n",
    "plt.title(\"Number of posts related to Apple Overtime\")\n",
    "plt.xticks(rotation='vertical')\n",
    "plt.show()\n"
   ]
  },
  {
   "cell_type": "code",
   "execution_count": null,
   "id": "f6dd1cc5",
   "metadata": {},
   "outputs": [],
   "source": []
  },
  {
   "cell_type": "markdown",
   "id": "17278a5d",
   "metadata": {},
   "source": [
    "## time serie plot number of post related to samsung"
   ]
  },
  {
   "cell_type": "code",
   "execution_count": 41,
   "id": "2e2446ad",
   "metadata": {},
   "outputs": [],
   "source": [
    "samsung['publish date']= samsung['Published Date (GMT-04:00) New York'].apply(dateutil.parser.parse, dayfirst=True)\n",
    "samsung['publish date'] = [d.date() for d in samsung[\"publish date\"]]"
   ]
  },
  {
   "cell_type": "code",
   "execution_count": 42,
   "id": "63232b84",
   "metadata": {
    "scrolled": true
   },
   "outputs": [
    {
     "data": {
      "image/png": "[encoded data removed]",
      "text/plain": [
       "<Figure size 432x288 with 1 Axes>"
      ]
     },
     "metadata": {
      "needs_background": "light"
     },
     "output_type": "display_data"
    }
   ],
   "source": [
    "# time serie plot number of post related to samsung\n",
    "# pre samsung launch\n",
    "samsung[samsung['publish date']<datetime.date(2017,3,30)].groupby('publish date')['Post ID'].count().plot()\n",
    "# post samsung launch\n",
    "samsung[(samsung['publish date']>datetime.date(2017,3,28)) & (samsung['publish date']<datetime.date(2017,7,1))].groupby('publish date')['Post ID'].count().plot()\n",
    "# pre apple lanuch\n",
    "samsung[(samsung['publish date']>datetime.date(2017,9,12)) & (samsung['publish date']<datetime.date(2017,9,22))].groupby('publish date')['Post ID'].count().plot()\n",
    "# post apple launch\n",
    "samsung[(samsung['publish date']>datetime.date(2017,9,20))].groupby('publish date')['Post ID'].count().plot()\n",
    "plt.title(\"Number of posts related to Samsung Overtime\")\n",
    "\n",
    "plt.xticks(rotation='vertical')\n",
    "plt.show()"
   ]
  },
  {
   "cell_type": "code",
   "execution_count": null,
   "id": "fdd4137b",
   "metadata": {},
   "outputs": [],
   "source": []
  },
  {
   "cell_type": "markdown",
   "id": "e6a8edfc",
   "metadata": {},
   "source": [
    "## time series plot for sentiment score of samsung"
   ]
  },
  {
   "cell_type": "code",
   "execution_count": 43,
   "id": "c2db27ee",
   "metadata": {},
   "outputs": [
    {
     "data": {
      "image/png": "[encoded data removed]",
      "text/plain": [
       "<Figure size 432x288 with 1 Axes>"
      ]
     },
     "metadata": {
      "needs_background": "light"
     },
     "output_type": "display_data"
    }
   ],
   "source": [
    "# time series plot for sentiment score of samsung\n",
    "# pre samsung launch\n",
    "samsung[samsung['publish date']<datetime.date(2017,3,30)].groupby('publish date')['sentiment score'].mean().plot()\n",
    "# post samsung launch\n",
    "samsung[(samsung['publish date']>datetime.date(2017,3,28)) & (samsung['publish date']<datetime.date(2017,7,1))].groupby('publish date')['sentiment score'].mean().plot()\n",
    "# pre apple lanuch\n",
    "samsung[(samsung['publish date']>datetime.date(2017,9,12)) & (samsung['publish date']<datetime.date(2017,9,22))].groupby('publish date')['sentiment score'].mean().plot()\n",
    "# post apple launch\n",
    "samsung[(samsung['publish date']>datetime.date(2017,9,20))].groupby('publish date')['sentiment score'].mean().plot()\n",
    "plt.xticks(rotation='vertical')\n",
    "plt.title(\"Sentiment Score Time Series for Samsung\")\n",
    "plt.show()"
   ]
  },
  {
   "cell_type": "code",
   "execution_count": null,
   "id": "e5fa501a",
   "metadata": {},
   "outputs": [],
   "source": []
  }
 ],
 "metadata": {
  "kernelspec": {
   "display_name": "Python 3 (ipykernel)",
   "language": "python",
   "name": "python3"
  },
  "language_info": {
   "codemirror_mode": {
    "name": "ipython",
    "version": 3
   },
   "file_extension": ".py",
   "mimetype": "text/x-python",
   "name": "python",
   "nbconvert_exporter": "python",
   "pygments_lexer": "ipython3",
   "version": "3.8.11"
  }
 },
 "nbformat": 4,
 "nbformat_minor": 5
}
